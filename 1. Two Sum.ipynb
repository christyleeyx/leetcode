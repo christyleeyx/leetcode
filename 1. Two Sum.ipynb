{
 "cells": [
  {
   "cell_type": "markdown",
   "metadata": {},
   "source": [
    "# 1. TwoSum"
   ]
  },
  {
   "cell_type": "markdown",
   "metadata": {},
   "source": [
    "Given an array of integers nums and an integer target, return indices of the two numbers such that they add up to target.\n",
    "\n",
    "You may assume that each input would have exactly one solution, and you may not use the same element twice.\n",
    "\n",
    "You can return the answer in any order.\n",
    "\n",
    " \n",
    "\n",
    "Example 1:\n",
    "\n",
    "Input: nums = [2,7,11,15], target = 9\n",
    "Output: [0,1]\n",
    "Explanation: Because nums[0] + nums[1] == 9, we return [0, 1].\n",
    "Example 2:\n",
    "\n",
    "Input: nums = [3,2,4], target = 6\n",
    "Output: [1,2]\n",
    "Example 3:\n",
    "\n",
    "Input: nums = [3,3], target = 6\n",
    "Output: [0,1]"
   ]
  },
  {
   "cell_type": "markdown",
   "metadata": {},
   "source": [
    "### Solution 1: Brute Force"
   ]
  },
  {
   "cell_type": "markdown",
   "metadata": {},
   "source": [
    "For each number in the list, pair it with other numbers in the list systematically to check if the target is met. This is done using nested loops.\n",
    "\n",
    "Time complexity O(n^2)"
   ]
  },
  {
   "cell_type": "code",
   "execution_count": 16,
   "metadata": {},
   "outputs": [],
   "source": [
    "from typing import List\n",
    "from collections import defaultdict\n",
    "\n",
    "class Solution1:\n",
    "    def twoSum(self, nums: List[int], target: int) -> List[int]:\n",
    "        #Check for length of list\n",
    "        n = len(nums)\n",
    "        #Loop each number in the list other than the last number\n",
    "        for i in range(n - 1):\n",
    "            #Loop second number to last number\n",
    "            for j in range(i + 1, n):\n",
    "                #Check if sum hits target\n",
    "                if nums[i] + nums[j] == target:\n",
    "                    return [i, j]\n",
    "        return []  # Else no solution found"
   ]
  },
  {
   "cell_type": "code",
   "execution_count": 6,
   "metadata": {},
   "outputs": [],
   "source": [
    "#Test Variables\n",
    "nums = [2,7,11,15]\n",
    "target = 9"
   ]
  },
  {
   "cell_type": "code",
   "execution_count": 17,
   "metadata": {},
   "outputs": [
    {
     "name": "stdout",
     "output_type": "stream",
     "text": [
      "[0, 1]\n"
     ]
    }
   ],
   "source": [
    "#Test Solution 1\n",
    "solution1 = Solution1()\n",
    "print(solution1.twoSum(nums, target))"
   ]
  },
  {
   "cell_type": "markdown",
   "metadata": {},
   "source": [
    "### Solution 2: Two-Pass Hash Table"
   ]
  },
  {
   "cell_type": "markdown",
   "metadata": {},
   "source": [
    " This solution makes use of a hash table. But it is created/run through twice, hence \"two-pass\"\n",
    "1. numMap is created as an empty hash table\n",
    "2. The entire nums list is initially inserted into the hash table \n",
    "3. After, for each number in the list, check if the complement exists in the hash table and return if it does, else check the next number."
   ]
  },
  {
   "cell_type": "code",
   "execution_count": 22,
   "metadata": {},
   "outputs": [],
   "source": [
    "class Solution2:\n",
    "    def twoSum(self, nums: List[int], target: int) -> List[int]:\n",
    "        #initialise an empty hashmap\n",
    "        numMap = {}\n",
    "        #check length of nums list for iteration\n",
    "        n = len(nums)\n",
    "\n",
    "        # Build the hash table: entire nums list insertion\n",
    "        for i in range(n):\n",
    "            numMap[nums[i]] = i #numMap[value] = index\n",
    "\n",
    "        # Find the complement\n",
    "        for i in range(n):\n",
    "            complement = target - nums[i]\n",
    "            #if complement is found in hash table, and it is not itself, return solution pair\n",
    "            if complement in numMap and numMap[complement] != i:\n",
    "                return [i, numMap[complement]]\n",
    "\n",
    "        return []  # Else no solution found"
   ]
  },
  {
   "cell_type": "code",
   "execution_count": 23,
   "metadata": {},
   "outputs": [
    {
     "name": "stdout",
     "output_type": "stream",
     "text": [
      "[0, 1]\n"
     ]
    }
   ],
   "source": [
    "#Test solution 2:\n",
    "solution2 = Solution2()\n",
    "print(solution2.twoSum(nums, target))"
   ]
  },
  {
   "cell_type": "markdown",
   "metadata": {},
   "source": [
    "### Solution 3: One-Pass Hash Table"
   ]
  },
  {
   "cell_type": "markdown",
   "metadata": {},
   "source": [
    "This solution also makes use of a hash table but only runs through it once, hence \"one-pass\"\n",
    "\n",
    "1. Create an empty hash table\n",
    "2. Iterate through the array, for each element, calculate the complement and check if it already exists in the hash table, if it does, return solution pair\n",
    "3. Else, add the current element in the hash table\n",
    "4. Repeat until solution is found"
   ]
  },
  {
   "cell_type": "code",
   "execution_count": 24,
   "metadata": {},
   "outputs": [],
   "source": [
    "class Solution3:\n",
    "    def twoSum(self, nums: List[int], target: int) -> List[int]:\n",
    "        prevMap = {} # val : index\n",
    "\n",
    "# Enumerate is a built-in function in python that allows you to keep track of the number of iterations (loops) in a loop\n",
    "        #in this case, enumerate(nums) -> [(0,'2'), (1,'7'), (2, '11'), (3, '15')] where (index i, value n)\n",
    "        for i, n in enumerate(nums):\n",
    "            diff = target - n\n",
    "            if diff in prevMap:\n",
    "                return [prevMap[diff], i]\n",
    "            prevMap[n] = i\n",
    "        return"
   ]
  },
  {
   "cell_type": "code",
   "execution_count": 25,
   "metadata": {},
   "outputs": [
    {
     "name": "stdout",
     "output_type": "stream",
     "text": [
      "[0, 1]\n"
     ]
    }
   ],
   "source": [
    "#Test solution 3:\n",
    "solution3 = Solution3()\n",
    "print(solution3.twoSum(nums, target))"
   ]
  }
 ],
 "metadata": {
  "kernelspec": {
   "display_name": "Python 3",
   "language": "python",
   "name": "python3"
  },
  "language_info": {
   "codemirror_mode": {
    "name": "ipython",
    "version": 3
   },
   "file_extension": ".py",
   "mimetype": "text/x-python",
   "name": "python",
   "nbconvert_exporter": "python",
   "pygments_lexer": "ipython3",
   "version": "3.11.8"
  }
 },
 "nbformat": 4,
 "nbformat_minor": 2
}
