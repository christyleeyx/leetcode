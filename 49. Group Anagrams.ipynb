{
  "metadata": {
    "kernelspec": {
      "name": "python",
      "display_name": "Python (Pyodide)",
      "language": "python"
    },
    "language_info": {
      "codemirror_mode": {
        "name": "python",
        "version": 3
      },
      "file_extension": ".py",
      "mimetype": "text/x-python",
      "name": "python",
      "nbconvert_exporter": "python",
      "pygments_lexer": "ipython3",
      "version": "3.8"
    }
  },
  "nbformat_minor": 4,
  "nbformat": 4,
  "cells": [
    {
      "cell_type": "code",
      "source": "#defaultdict is imported to allow for each dictionary key not having to be initialised??\nfrom collections import defaultdict\nfrom typing import List",
      "metadata": {
        "trusted": true
      },
      "outputs": [],
      "execution_count": 7
    },
    {
      "cell_type": "code",
      "source": "strs = [\"eat\", \"tea\", \"tan\", \"ate\", \"nat\", \"bat\"]",
      "metadata": {
        "trusted": true
      },
      "outputs": [],
      "execution_count": 2
    },
    {
      "cell_type": "code",
      "source": "#declaring a function with a class \nclass AnagramGrouper:\n    #created an example list of strings called 'strs', pass 'strs' as an argument as a list of strings \n    #This will return a list of lists where each inner list represents a group of anagrams \n    def groupAnagrams(self, strs: List[str]) -> List[List[str]]:\n        anagram_map = defaultdict(list)\n        result = []\n\n    #creating dictionary anagram_map\n        for s in strs:\n            #checking for/creating the key which is sorted alphabetically and turned into an unmmutable tuple type\n            sorted_s = tuple(sorted(s))\n            #search for the key in the dictionary and append the original word\n            anagram_map[sorted_s].append(s)\n\n        #     result at this point:\n        #     ('a', 'e', 't'): ['eat', 'tea', 'ate'],\n        #     ('a', 'n', 't'): ['tan', 'nat'],\n        #     ('a', 'b', 't'): ['bat']\n\n        #for each key-value pair, append the value to results \n        for value in anagram_map.values():\n            result.append(value)\n    \n        return result\n\n# Creating an instance of the class\nanagram_grouper = AnagramGrouper()\n\n# Calling the method\nanagram_groups = anagram_grouper.groupAnagrams(strs)\n\n# Printing the result\nfor group in anagram_groups:\n    print(group)",
      "metadata": {
        "trusted": true
      },
      "outputs": [
        {
          "name": "stdout",
          "text": "['eat', 'tea', 'ate']\n['tan', 'nat']\n['bat']\n",
          "output_type": "stream"
        }
      ],
      "execution_count": 23
    },
    {
      "cell_type": "code",
      "source": "",
      "metadata": {
        "trusted": true
      },
      "outputs": [],
      "execution_count": null
    },
    {
      "cell_type": "code",
      "source": "",
      "metadata": {
        "trusted": true
      },
      "outputs": [],
      "execution_count": null
    }
  ]
}